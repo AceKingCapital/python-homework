{
 "cells": [
  {
   "cell_type": "code",
   "execution_count": 96,
   "id": "74595b4e",
   "metadata": {},
   "outputs": [],
   "source": [
    "#Initial commands\n",
    "\n",
    "import csv\n",
    "from pathlib import Path"
   ]
  },
  {
   "cell_type": "code",
   "execution_count": 97,
   "id": "fcae298a",
   "metadata": {},
   "outputs": [],
   "source": [
    "#Input csvpath for excel file:\n",
    "csvpath = Path('C:/Users/Aakshay Gautam/Desktop/Homework/python-homework/PyBank/budget_data.csv')\n",
    "\n",
    "#Total number of months and Net total amount:\n",
    "totalmonths = 0\n",
    "total = 0\n",
    "\n",
    "#Profit/Loss per month:\n",
    "pnl = 0\n",
    "\n",
    "#Change in Profit/Loss per month:\n",
    "change_pnl = 0\n",
    "\n",
    "#Total change in P&L for all months:\n",
    "totalchange_pnl = 0\n",
    "\n",
    "#Average:\n",
    "average = 0 \n",
    "\n",
    "#List of Records\n",
    "records = []\n",
    "\n",
    "#Max and Min Keys and Values for P&L\n",
    "max_value = 0\n",
    "min_value = 0\n",
    "max_key = ''\n",
    "min_key = ''\n"
   ]
  },
  {
   "cell_type": "code",
   "execution_count": 98,
   "id": "33bd0a44",
   "metadata": {},
   "outputs": [],
   "source": [
    "#Defining Fx called Finanalysis to calculate net P&L and total number of months:\n",
    "\n",
    "def Finanalysis(budget_data):\n",
    "\n",
    "    #Global Fx Variables:\n",
    "    global totalmonths\n",
    "    global total\n",
    "\n",
    "    #Total # of months:\n",
    "    totalmonths = totalmonths + 1\n",
    "\n",
    "    #Net P&L:\n",
    "    total = total + int(row[1])\n",
    "         \n",
    "      "
   ]
  },
  {
   "cell_type": "code",
   "execution_count": 99,
   "id": "87c674f6",
   "metadata": {},
   "outputs": [],
   "source": [
    "#Defining Fx called Findiff to calculate change in P&L each month:\n",
    "\n",
    "def Findiff(budget_data):\n",
    "\n",
    "    #P&L each month + Total change in P&L: \n",
    "    global pnl\n",
    "    global change_pnl\n",
    "    global totalchange_pnl\n",
    "\n",
    "    #Setting P&L\n",
    "    pnl = int(row[1])\n",
    "\n",
    "    #Setting change in P&L:\n",
    "    if totalmonths == 1:\n",
    "        change_pnl = 0\n",
    "    else:\n",
    "         change_pnl = pnl - change_pnl\n",
    "    #Total Change across all months:\n",
    "    totalchange_pnl = totalchange_pnl + change_pnl"
   ]
  },
  {
   "cell_type": "code",
   "execution_count": 100,
   "id": "3a0b22cc",
   "metadata": {},
   "outputs": [],
   "source": [
    "with open(csvpath, 'r') as csvfile:\n",
    "    csvreader = csv.reader(csvfile, delimiter=\",\")\n",
    "    csv_header = next(csvreader)\n",
    "    csv_header.append(change_pnl)\n",
    "    records.append(csv_header)\n",
    "    for row in csvreader:\n",
    "        Finanalysis(row)\n",
    "        Findiff(row)\n",
    "        row.append(change_pnl)\n",
    "        records.append(row)\n",
    "        change_pnl = pnl\n",
    "        #Largest Increase/ Decrease\n",
    "        if min_value == 0:\n",
    "            min_value = int(row[2])\n",
    "            min_key = str(row[0])\n",
    "        elif int(row[2] < min_value):\n",
    "            min_value = int(row[2])\n",
    "            min_key = str(row[0])\n",
    "        if int(row[2] > max_value):\n",
    "            max_value = int(row[2])\n",
    "            max_key = str(row[0])\n",
    "#Average change in P&L for all months:\n",
    "average = round((totalchange_pnl/(totalmonths-1)),2)\n"
   ]
  },
  {
   "cell_type": "code",
   "execution_count": 101,
   "id": "1d855af1",
   "metadata": {},
   "outputs": [
    {
     "name": "stdout",
     "output_type": "stream",
     "text": [
      "Financial Analysis\n",
      "-----------------------\n",
      "Total Months: 86\n",
      "Net Total: $38382578\n",
      "Average Change: $-2315.12\n",
      "Greatest Increase in Profits: Feb-2012 ($1926159)\n",
      "Greatest Decrease in Profits: Sep-2013 ($-2196167)\n"
     ]
    }
   ],
   "source": [
    "#Output Print:\n",
    "print(f'Financial Analysis')\n",
    "print(f'-----------------------')\n",
    "print(f'Total Months: {totalmonths}')\n",
    "print(f'Net Total: ${total}')\n",
    "print(f'Average Change: ${average}')\n",
    "print(f'Greatest Increase in Profits: {max_key} (${max_value})')\n",
    "print(f'Greatest Decrease in Profits: {min_key} (${min_value})')"
   ]
  },
  {
   "cell_type": "code",
   "execution_count": 102,
   "id": "dfd73911",
   "metadata": {},
   "outputs": [],
   "source": [
    "#Path for Output\n",
    "output_path = Path('FinAnalysis.txt')\n",
    "with open(output_path, 'w') as file:\n",
    "    file.write(f'Financial Analysis\\n')\n",
    "    file.write(f'-----------------------\\n')\n",
    "    file.write(f'Total Months: {totalmonths}\\n')\n",
    "    file.write(f'Net Total: ${total}\\n')\n",
    "    file.write(f'Average Change: ${average}\\n')\n",
    "    file.write(f'Greatest Increase in Profits: {max_key} (${max_value})\\n')\n",
    "    file.write(f'Greatest Decrease in Profits: {min_key} (${min_value})\\n')"
   ]
  }
 ],
 "metadata": {
  "kernelspec": {
   "display_name": "dev",
   "language": "python",
   "name": "dev"
  },
  "language_info": {
   "codemirror_mode": {
    "name": "ipython",
    "version": 3
   },
   "file_extension": ".py",
   "mimetype": "text/x-python",
   "name": "python",
   "nbconvert_exporter": "python",
   "pygments_lexer": "ipython3",
   "version": "3.7.15"
  }
 },
 "nbformat": 4,
 "nbformat_minor": 5
}
